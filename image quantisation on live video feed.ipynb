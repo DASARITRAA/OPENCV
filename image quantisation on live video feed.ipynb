{
 "cells": [
  {
   "cell_type": "code",
   "execution_count": 1,
   "metadata": {},
   "outputs": [],
   "source": [
    "import cv2\n",
    "import matplotlib.pyplot as plt"
   ]
  },
  {
   "cell_type": "code",
   "execution_count": 2,
   "metadata": {},
   "outputs": [],
   "source": [
    "import numpy as np"
   ]
  },
  {
   "cell_type": "code",
   "execution_count": 4,
   "metadata": {},
   "outputs": [],
   "source": [
    "def main():\n",
    "    \n",
    "    windowname=\"live video feed\"\n",
    "    cap=cv2.VideoCapture(0)\n",
    "    \n",
    "    if cap.isOpened():\n",
    "          ret,frame=cap.read()\n",
    "          \n",
    "    else: \n",
    "          ret=False\n",
    "            \n",
    "   \n",
    "    while ret:\n",
    "        \n",
    "        ret,frame=cap.read()\n",
    "        \n",
    "        z=frame.reshape((-1,3))\n",
    "        z=np.float32(z)\n",
    "    \n",
    "        criteria=(cv2.TERM_CRITERIA_EPS+cv2.TERM_CRITERIA_MAX_ITER,10,1.0)\n",
    "    \n",
    "    \n",
    "        k=2\n",
    "        ret,label1,center1=cv2.kmeans(z,k,None,criteria,10,cv2.KMEANS_RANDOM_CENTERS)\n",
    "    \n",
    "    \n",
    "        center1=np.uint8(center1)\n",
    "        res1=center1[label1.flatten()]\n",
    "        output1=res1.reshape((frame.shape))\n",
    "    \n",
    "        cv2.imshow(\"original\",frame)\n",
    "        cv2.imshow(\"quantised\",output1)\n",
    "        if cv2.waitKey(1)==27:\n",
    "            break\n",
    "            \n",
    "    cv2.destroyWindow(windowname)    \n",
    "    \n",
    "    cap.release()\n",
    "    \n",
    "if  __name__==\"__main__\":\n",
    "     main()"
   ]
  },
  {
   "cell_type": "code",
   "execution_count": null,
   "metadata": {},
   "outputs": [],
   "source": []
  }
 ],
 "metadata": {
  "kernelspec": {
   "display_name": "Python 3",
   "language": "python",
   "name": "python3"
  },
  "language_info": {
   "codemirror_mode": {
    "name": "ipython",
    "version": 3
   },
   "file_extension": ".py",
   "mimetype": "text/x-python",
   "name": "python",
   "nbconvert_exporter": "python",
   "pygments_lexer": "ipython3",
   "version": "3.5.6"
  }
 },
 "nbformat": 4,
 "nbformat_minor": 2
}
