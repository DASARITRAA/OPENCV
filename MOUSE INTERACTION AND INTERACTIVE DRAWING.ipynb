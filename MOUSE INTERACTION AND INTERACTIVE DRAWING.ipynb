{
 "cells": [
  {
   "cell_type": "code",
   "execution_count": 2,
   "metadata": {},
   "outputs": [],
   "source": [
    "import cv2\n",
    "import numpy as np\n",
    "\n",
    "# Create a black image and a window\n",
    "windowName = 'Drawing'\n",
    "img = np.zeros((512, 512, 3), np.uint8)\n",
    "cv2.namedWindow(windowName)\n",
    "\n",
    "# mouse callback function\n",
    "def draw_circle(event, x, y, flags, param):\n",
    "    if event == cv2.EVENT_LBUTTONDBLCLK:\n",
    "        cv2.circle(img, (x, y), 40, (0, 255, 0), -1)\n",
    "    if event == cv2.EVENT_MBUTTONDOWN:\n",
    "        cv2.circle(img, (x, y), 20, (0, 0, 255), -1)\n",
    "    if event == cv2.EVENT_LBUTTONDOWN:\n",
    "        cv2.circle(img, (x, y), 30, (255, 0, ), -1)\n",
    "\n",
    "# bind the callback function to window\n",
    "cv2.setMouseCallback(windowName, draw_circle)\n",
    "\n",
    "def main():\n",
    "    \n",
    "    while(True):\n",
    "        cv2.imshow(windowName, img)\n",
    "        if cv2.waitKey(20) == 27:\n",
    "            break\n",
    "        \n",
    "    cv2.destroyAllWindows()\n",
    "        \n",
    "if __name__ == \"__main__\":\n",
    "    main()"
   ]
  },
  {
   "cell_type": "code",
   "execution_count": null,
   "metadata": {},
   "outputs": [],
   "source": []
  }
 ],
 "metadata": {
  "kernelspec": {
   "display_name": "Python 3",
   "language": "python",
   "name": "python3"
  },
  "language_info": {
   "codemirror_mode": {
    "name": "ipython",
    "version": 3
   },
   "file_extension": ".py",
   "mimetype": "text/x-python",
   "name": "python",
   "nbconvert_exporter": "python",
   "pygments_lexer": "ipython3",
   "version": "3.5.6"
  }
 },
 "nbformat": 4,
 "nbformat_minor": 2
}
