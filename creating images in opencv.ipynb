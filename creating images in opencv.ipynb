{
 "cells": [
  {
   "cell_type": "code",
   "execution_count": 9,
   "metadata": {},
   "outputs": [],
   "source": [
    "import cv2"
   ]
  },
  {
   "cell_type": "code",
   "execution_count": 10,
   "metadata": {},
   "outputs": [],
   "source": [
    "import numpy as np"
   ]
  },
  {
   "cell_type": "code",
   "execution_count": 11,
   "metadata": {},
   "outputs": [],
   "source": [
    "def main():\n",
    "    img1=np.zeros((512,512,3),np.uint8)\n",
    "    cv2.line(img1,(0,99),(99,0),(255,0,0),2)\n",
    "    cv2.rectangle(img1,(40,99),(60,0),(0,255,0),4)\n",
    "    cv2.circle(img1,(60,60),50,(0,0,240),-1)\n",
    "    cv2.ellipse(img1,(160,260),(50,20),20,50,360,(127,127,127),-1)\n",
    "    text1='ARITRA DAS'\n",
    "    cv2.putText(img1,text1,(100,100),cv2.FONT_HERSHEY_SIMPLEX,5,(255,255,0))\n",
    "    cv2.imshow('aritra',img1)\n",
    "    cv2.waitKey(0)\n",
    "    cv2.destroyWindow('aritra')\n",
    "    \n",
    "if __name__==\"__main__\":\n",
    "    main()"
   ]
  },
  {
   "cell_type": "code",
   "execution_count": null,
   "metadata": {},
   "outputs": [],
   "source": []
  },
  {
   "cell_type": "code",
   "execution_count": null,
   "metadata": {},
   "outputs": [],
   "source": []
  },
  {
   "cell_type": "code",
   "execution_count": null,
   "metadata": {},
   "outputs": [],
   "source": []
  },
  {
   "cell_type": "code",
   "execution_count": null,
   "metadata": {},
   "outputs": [],
   "source": []
  }
 ],
 "metadata": {
  "kernelspec": {
   "display_name": "Python 3",
   "language": "python",
   "name": "python3"
  },
  "language_info": {
   "codemirror_mode": {
    "name": "ipython",
    "version": 3
   },
   "file_extension": ".py",
   "mimetype": "text/x-python",
   "name": "python",
   "nbconvert_exporter": "python",
   "pygments_lexer": "ipython3",
   "version": "3.5.6"
  }
 },
 "nbformat": 4,
 "nbformat_minor": 2
}
