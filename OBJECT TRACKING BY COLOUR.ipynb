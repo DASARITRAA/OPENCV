{
 "cells": [
  {
   "cell_type": "code",
   "execution_count": 8,
   "metadata": {},
   "outputs": [],
   "source": [
    "import cv2"
   ]
  },
  {
   "cell_type": "code",
   "execution_count": 9,
   "metadata": {},
   "outputs": [],
   "source": [
    "import matplotlib.pyplot as plt\n",
    "import numpy as np"
   ]
  },
  {
   "cell_type": "code",
   "execution_count": 16,
   "metadata": {},
   "outputs": [],
   "source": [
    "def main():\n",
    "    \n",
    "    \n",
    "    cap=cv2.VideoCapture(0)\n",
    "    \n",
    "    if cap.isOpened():\n",
    "          ret,frame=cap.read()\n",
    "          \n",
    "    else: \n",
    "          ret=False\n",
    "            \n",
    "   \n",
    "    while ret:\n",
    "        \n",
    "        ret,frame=cap.read()\n",
    "        \n",
    "        hsv=cv2.cvtColor(frame,cv2.COLOR_BGR2HSV)\n",
    "        \n",
    "        low=np.array([40,50,50])\n",
    "        high=np.array([80,255,255])\n",
    "        image_mask=cv2.inRange(hsv,low,high)\n",
    "        output=cv2.bitwise_and(frame,frame,mask=image_mask)\n",
    "        cv2.imshow(\"Image mask\",image_mask)\n",
    "        \n",
    "        cv2.imshow(\"ORIGINAL WEBCAM FEED\",frame)\n",
    "        cv2.imshow(\"COLOR TRACKING\",output)\n",
    "        if cv2.waitKey(1)==27:\n",
    "            break\n",
    "            \n",
    "    cv2.destroyAllWindows()\n",
    "    cap.release()\n",
    "    \n",
    "if  __name__==\"__main__\":\n",
    "     main()    "
   ]
  },
  {
   "cell_type": "code",
   "execution_count": null,
   "metadata": {},
   "outputs": [],
   "source": []
  },
  {
   "cell_type": "code",
   "execution_count": null,
   "metadata": {},
   "outputs": [],
   "source": []
  }
 ],
 "metadata": {
  "kernelspec": {
   "display_name": "Python 3",
   "language": "python",
   "name": "python3"
  },
  "language_info": {
   "codemirror_mode": {
    "name": "ipython",
    "version": 3
   },
   "file_extension": ".py",
   "mimetype": "text/x-python",
   "name": "python",
   "nbconvert_exporter": "python",
   "pygments_lexer": "ipython3",
   "version": "3.5.6"
  }
 },
 "nbformat": 4,
 "nbformat_minor": 2
}
