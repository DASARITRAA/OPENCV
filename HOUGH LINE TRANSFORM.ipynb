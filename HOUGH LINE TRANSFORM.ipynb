{
 "cells": [
  {
   "cell_type": "code",
   "execution_count": 5,
   "metadata": {},
   "outputs": [],
   "source": [
    "import cv2"
   ]
  },
  {
   "cell_type": "code",
   "execution_count": 6,
   "metadata": {},
   "outputs": [],
   "source": [
    "import matplotlib.pyplot as plt"
   ]
  },
  {
   "cell_type": "code",
   "execution_count": 7,
   "metadata": {},
   "outputs": [],
   "source": [
    "import numpy as np"
   ]
  },
  {
   "cell_type": "code",
   "execution_count": 8,
   "metadata": {},
   "outputs": [],
   "source": [
    "def main():\n",
    "    \n",
    "    windowname=\"live video feed\"\n",
    "    cap=cv2.VideoCapture(0)\n",
    "    \n",
    "    if cap.isOpened():\n",
    "          ret,frame=cap.read()\n",
    "          \n",
    "    else: \n",
    "          ret=False\n",
    "            \n",
    "   \n",
    "    while ret:\n",
    "        \n",
    "        ret,frame=cap.read()\n",
    "        grey=cv2.cvtColor(frame,cv2.COLOR_BGR2GRAY)\n",
    "        edges=cv2.Canny(grey,50,250,apertureSize=5,L2gradient=True)\n",
    "        \n",
    "        lines=cv2.HoughLines(edges,1,np.pi/180,250)\n",
    "        if lines is not None:\n",
    "            for rho,theta in lines[0]:\n",
    "                a=np.cos(theta)\n",
    "                b=np.sin(theta)\n",
    "                x0=a*rho\n",
    "                y0=b*rho\n",
    "                pts1=(int(x0+1000*(-b)),int(y0+1000*(a)))\n",
    "                pts2=(int(x0-1000*(-b)),int(y0-1000*(a)))\n",
    "                cv2.line(frame,pts1,pts2,(0,255,0),3)\n",
    "            \n",
    "        cv2.imshow(windowname,frame)    \n",
    "        if cv2.waitKey(1)==27:\n",
    "            break\n",
    "           \n",
    "    cv2.destroyWindow(windowname)    \n",
    "    \n",
    "    cap.release()\n",
    "    \n",
    "if  __name__==\"__main__\":\n",
    "     main()"
   ]
  },
  {
   "cell_type": "code",
   "execution_count": null,
   "metadata": {},
   "outputs": [],
   "source": []
  }
 ],
 "metadata": {
  "kernelspec": {
   "display_name": "Python 3",
   "language": "python",
   "name": "python3"
  },
  "language_info": {
   "codemirror_mode": {
    "name": "ipython",
    "version": 3
   },
   "file_extension": ".py",
   "mimetype": "text/x-python",
   "name": "python",
   "nbconvert_exporter": "python",
   "pygments_lexer": "ipython3",
   "version": "3.5.6"
  }
 },
 "nbformat": 4,
 "nbformat_minor": 2
}
