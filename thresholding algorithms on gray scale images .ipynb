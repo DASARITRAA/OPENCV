{
 "cells": [
  {
   "cell_type": "code",
   "execution_count": 1,
   "metadata": {},
   "outputs": [],
   "source": [
    "import cv2"
   ]
  },
  {
   "cell_type": "code",
   "execution_count": 2,
   "metadata": {},
   "outputs": [],
   "source": [
    "import matplotlib.pyplot as plt"
   ]
  },
  {
   "cell_type": "code",
   "execution_count": 4,
   "metadata": {},
   "outputs": [],
   "source": [
    "import numpy as np"
   ]
  },
  {
   "cell_type": "code",
   "execution_count": 13,
   "metadata": {},
   "outputs": [
    {
     "data": {
      "image/png": "[encoded data removed]",
      "text/plain": [
       "<Figure size 432x288 with 6 Axes>"
      ]
     },
     "metadata": {},
     "output_type": "display_data"
    }
   ],
   "source": [
    "def main():\n",
    "    imgpath1=\"C:\\\\Users\\\\user\\\\Downloads\\\\opencv\\\\misc\\\\gray21.512.tiff\"\n",
    "    img1=cv2.imread(imgpath1,1)\n",
    "    th=127\n",
    "    max_val=255\n",
    "    \n",
    "    ret,o1=cv2.threshold(img1,th,max_val,cv2.THRESH_BINARY)\n",
    "    ret,o2=cv2.threshold(img1,th,max_val,cv2.THRESH_BINARY_INV)\n",
    "    ret,o3=cv2.threshold(img1,th,max_val,cv2.THRESH_TOZERO)\n",
    "    ret,o4=cv2.threshold(img1,th,max_val,cv2.THRESH_TOZERO_INV)\n",
    "    ret,o5=cv2.threshold(img1,th,max_val,cv2.THRESH_TRUNC)\n",
    "    \n",
    "    \n",
    "    output=[img1,o1,o2,o3,o4,o5]\n",
    "    \n",
    "    titles=['original','binary','binary inverted','to zero','to zero inverted','trunc']\n",
    "    \n",
    "    for i in range(6):\n",
    "        plt.subplot(2,3,i+1)\n",
    "        plt.imshow(output[i])\n",
    "        plt.title(titles[i])\n",
    "        plt.xticks([])\n",
    "        plt.yticks([])\n",
    "    \n",
    "    \n",
    "    plt.show()\n",
    "        \n",
    "    \n",
    "if __name__==\"__main__\":\n",
    "    main()"
   ]
  },
  {
   "cell_type": "code",
   "execution_count": null,
   "metadata": {},
   "outputs": [],
   "source": []
  }
 ],
 "metadata": {
  "kernelspec": {
   "display_name": "Python 3",
   "language": "python",
   "name": "python3"
  },
  "language_info": {
   "codemirror_mode": {
    "name": "ipython",
    "version": 3
   },
   "file_extension": ".py",
   "mimetype": "text/x-python",
   "name": "python",
   "nbconvert_exporter": "python",
   "pygments_lexer": "ipython3",
   "version": "3.5.6"
  }
 },
 "nbformat": 4,
 "nbformat_minor": 2
}
