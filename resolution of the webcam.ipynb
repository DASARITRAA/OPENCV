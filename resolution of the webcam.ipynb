{
 "cells": [
  {
   "cell_type": "code",
   "execution_count": 1,
   "metadata": {},
   "outputs": [],
   "source": [
    "import cv2"
   ]
  },
  {
   "cell_type": "code",
   "execution_count": 2,
   "metadata": {},
   "outputs": [],
   "source": [
    "import matplotlib.pyplot as plt"
   ]
  },
  {
   "cell_type": "code",
   "execution_count": 6,
   "metadata": {},
   "outputs": [
    {
     "name": "stdout",
     "output_type": "stream",
     "text": [
      "640.0\n",
      "480.0\n",
      "1280.0\n",
      "720.0\n"
     ]
    }
   ],
   "source": [
    "def main():\n",
    "    \n",
    "    windowname=\"live video feed\"\n",
    "    cv2.namedWindow(windowname)\n",
    "    cap=cv2.VideoCapture(0)\n",
    "    \n",
    "    print(cap.get(3))\n",
    "    print(cap.get(4))\n",
    "    \n",
    "    cap.set(3,5000)\n",
    "    cap.set(4,5000)\n",
    "    \n",
    "    \n",
    "    print(cap.get(3))\n",
    "    print(cap.get(4))\n",
    "    \n",
    "    if cap.isOpened():\n",
    "          ret,frame=cap.read()\n",
    "          \n",
    "    else: \n",
    "          ret=False\n",
    "            \n",
    "   \n",
    "    while ret:\n",
    "        \n",
    "        ret,frame=cap.read()\n",
    "        output=cv2.cvtColor(frame,cv2.COLOR_BGR2GRAY)\n",
    "        \n",
    "        cv2.imshow(windowname,frame)\n",
    "        if cv2.waitKey(1)==27:\n",
    "            break\n",
    "            \n",
    "    cv2.destroyWindow(windowname)    \n",
    "    \n",
    "    cap.release()\n",
    "    \n",
    "if  __name__==\"__main__\":\n",
    "     main()"
   ]
  },
  {
   "cell_type": "code",
   "execution_count": null,
   "metadata": {},
   "outputs": [],
   "source": []
  }
 ],
 "metadata": {
  "kernelspec": {
   "display_name": "Python 3",
   "language": "python",
   "name": "python3"
  },
  "language_info": {
   "codemirror_mode": {
    "name": "ipython",
    "version": 3
   },
   "file_extension": ".py",
   "mimetype": "text/x-python",
   "name": "python",
   "nbconvert_exporter": "python",
   "pygments_lexer": "ipython3",
   "version": "3.5.6"
  }
 },
 "nbformat": 4,
 "nbformat_minor": 2
}
