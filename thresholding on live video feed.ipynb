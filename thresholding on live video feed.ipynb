{
 "cells": [
  {
   "cell_type": "code",
   "execution_count": 7,
   "metadata": {},
   "outputs": [],
   "source": [
    "import cv2"
   ]
  },
  {
   "cell_type": "code",
   "execution_count": 8,
   "metadata": {},
   "outputs": [],
   "source": [
    "import matplotlib.pyplot as plt"
   ]
  },
  {
   "cell_type": "code",
   "execution_count": 9,
   "metadata": {},
   "outputs": [],
   "source": [
    "import numpy as np"
   ]
  },
  {
   "cell_type": "code",
   "execution_count": 10,
   "metadata": {},
   "outputs": [],
   "source": [
    "def main():\n",
    "    windowname=\"live video feed\"\n",
    "    cv2.namedWindow(windowname)\n",
    "    cap=cv2.VideoCapture(0)\n",
    "    \n",
    "    if cap.isOpened():\n",
    "          ret,frame=cap.read()\n",
    "          \n",
    "    else: \n",
    "          ret=False\n",
    "            \n",
    "   \n",
    "    while ret:\n",
    "        \n",
    "        ret,frame=cap.read()\n",
    "        th=127\n",
    "        max_val=255\n",
    "    \n",
    "        ret,o1=cv2.threshold(frame,th,max_val,cv2.THRESH_BINARY)\n",
    "        ret,o2=cv2.threshold(frame,th,max_val,cv2.THRESH_BINARY_INV)\n",
    "        ret,o3=cv2.threshold(frame,th,max_val,cv2.THRESH_TOZERO)\n",
    "        ret,o4=cv2.threshold(frame,th,max_val,cv2.THRESH_TOZERO_INV)\n",
    "        ret,o5=cv2.threshold(frame,th,max_val,cv2.THRESH_TRUNC)\n",
    "        \n",
    "        cv2.imshow(windowname,o1)\n",
    "        cv2.imshow(windowname+'1',o2)\n",
    "        cv2.imshow(windowname+'2',o3)\n",
    "        cv2.imshow(windowname+'3',o4)\n",
    "        cv2.imshow(windowname+'4',o5)\n",
    "        if cv2.waitKey(1)==27:\n",
    "            break\n",
    "            \n",
    "if  __name__==\"__main__\":\n",
    "     main()            \n",
    "            "
   ]
  },
  {
   "cell_type": "code",
   "execution_count": null,
   "metadata": {},
   "outputs": [],
   "source": []
  }
 ],
 "metadata": {
  "kernelspec": {
   "display_name": "Python 3",
   "language": "python",
   "name": "python3"
  },
  "language_info": {
   "codemirror_mode": {
    "name": "ipython",
    "version": 3
   },
   "file_extension": ".py",
   "mimetype": "text/x-python",
   "name": "python",
   "nbconvert_exporter": "python",
   "pygments_lexer": "ipython3",
   "version": "3.5.6"
  }
 },
 "nbformat": 4,
 "nbformat_minor": 2
}
