{
 "cells": [
  {
   "cell_type": "code",
   "execution_count": 4,
   "metadata": {},
   "outputs": [],
   "source": [
    "import cv2"
   ]
  },
  {
   "cell_type": "code",
   "execution_count": 5,
   "metadata": {},
   "outputs": [],
   "source": [
    "import matplotlib.pyplot as plt"
   ]
  },
  {
   "cell_type": "code",
   "execution_count": 6,
   "metadata": {},
   "outputs": [],
   "source": [
    "def main():\n",
    "    \n",
    "    windowname=\"live webcam video feed capture\"\n",
    "    cv2.namedWindow(windowname)\n",
    "    cap=cv2.VideoCapture(0)\n",
    "    \n",
    "    filename=\"C:\\\\Users\\\\user\\\\Downloads\\\\opencv\\\\output.avi\"\n",
    "    \n",
    "    codec=cv2.VideoWriter_fourcc('X','V','I','D')\n",
    "    \n",
    "    framerate=30\n",
    "    resolution=(640,480)\n",
    "    \n",
    "    VideoFileOutput=cv2.VideoWriter(filename,codec,framerate,resolution)\n",
    "    \n",
    "    \n",
    "    if cap.isOpened():\n",
    "          ret,frame=cap.read()\n",
    "          \n",
    "    else: \n",
    "          ret=False\n",
    "            \n",
    "   \n",
    "    while ret:\n",
    "        \n",
    "        ret,frame=cap.read()\n",
    "        output=cv2.cvtColor(frame,cv2.COLOR_BGR2GRAY)\n",
    "        frame=cv2.cvtColor(frame,cv2.COLOR_BGR2RGB)\n",
    "        \n",
    "        VideoFileOutput.write(frame)\n",
    "    \n",
    "        cv2.imshow(windowname,frame)\n",
    "        if cv2.waitKey(1)==27:\n",
    "            break\n",
    "            \n",
    "    cv2.destroyAllWindows()\n",
    "    VideoFileOutput.release()\n",
    "    \n",
    "    \n",
    "    cap.release()\n",
    "    \n",
    "if  __name__==\"__main__\":\n",
    "     main()"
   ]
  },
  {
   "cell_type": "code",
   "execution_count": null,
   "metadata": {},
   "outputs": [],
   "source": []
  }
 ],
 "metadata": {
  "kernelspec": {
   "display_name": "Python 3",
   "language": "python",
   "name": "python3"
  },
  "language_info": {
   "codemirror_mode": {
    "name": "ipython",
    "version": 3
   },
   "file_extension": ".py",
   "mimetype": "text/x-python",
   "name": "python",
   "nbconvert_exporter": "python",
   "pygments_lexer": "ipython3",
   "version": "3.5.6"
  }
 },
 "nbformat": 4,
 "nbformat_minor": 2
}
